{
 "cells": [
  {
   "cell_type": "code",
   "execution_count": 1,
   "metadata": {},
   "outputs": [],
   "source": [
    "import numpy as np\n",
    "import os \n",
    "def get_tensor(path):\n",
    "    images_liste = os.listdir(path)\n",
    "    Nb_images = len(images_liste)\n",
    "    tenseur = np.empty((Nb_images, 512, 512, 1),dtype=\"uint8\")\n",
    "\n",
    "    for i,file in enumerate(images_liste):\n",
    "      \n",
    "        img = np.load(os.path.join(path,file))\n",
    "        tenseur[i, :, :, 0] = img\n",
    "    return tenseur\n"
   ]
  },
  {
   "cell_type": "code",
   "execution_count": 4,
   "metadata": {},
   "outputs": [],
   "source": [
    "X0 = get_tensor(\"D:/fin_de_etude/data/data2D/nonnodule/\")\n",
    "X1 = get_tensor(\"D:/fin_de_etude/data/data2D/nodule/\")\n"
   ]
  },
  {
   "cell_type": "code",
   "execution_count": 5,
   "metadata": {},
   "outputs": [
    {
     "name": "stdout",
     "output_type": "stream",
     "text": [
      "(287, 512, 512, 1)\n",
      "(1155, 512, 512, 1)\n"
     ]
    }
   ],
   "source": [
    "print(X0.shape)\n",
    "\n",
    "print(X1.shape)"
   ]
  },
  {
   "cell_type": "code",
   "execution_count": 6,
   "metadata": {},
   "outputs": [],
   "source": [
    "np.save(\"X1.npy\",X1)\n",
    "np.save(\"X0.npy\",X0)"
   ]
  },
  {
   "cell_type": "code",
   "execution_count": 7,
   "metadata": {},
   "outputs": [],
   "source": [
    "mask_1 = get_tensor(\"D:/fin_de_etude/data/nodule_mask/nodule/\")\n",
    "mask_0 = get_tensor(\"D:/fin_de_etude/data/nodule_mask/nonnodule/\")"
   ]
  },
  {
   "cell_type": "code",
   "execution_count": 9,
   "metadata": {},
   "outputs": [
    {
     "data": {
      "text/plain": [
       "(1155, 512, 512, 1)"
      ]
     },
     "execution_count": 9,
     "metadata": {},
     "output_type": "execute_result"
    }
   ],
   "source": [
    "mask_1.shape"
   ]
  },
  {
   "cell_type": "code",
   "execution_count": 11,
   "metadata": {},
   "outputs": [],
   "source": [
    "np.save(\"mask0.npy\",mask_0)\n",
    "np.save(\"mask1.npy\",mask_1)"
   ]
  },
  {
   "cell_type": "code",
   "execution_count": null,
   "metadata": {},
   "outputs": [],
   "source": []
  }
 ],
 "metadata": {
  "kernelspec": {
   "display_name": "tf_gpu",
   "language": "python",
   "name": "python3"
  },
  "language_info": {
   "codemirror_mode": {
    "name": "ipython",
    "version": 3
   },
   "file_extension": ".py",
   "mimetype": "text/x-python",
   "name": "python",
   "nbconvert_exporter": "python",
   "pygments_lexer": "ipython3",
   "version": "3.9.15"
  },
  "orig_nbformat": 4
 },
 "nbformat": 4,
 "nbformat_minor": 2
}
