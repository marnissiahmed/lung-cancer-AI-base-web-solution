{
 "cells": [
  {
   "cell_type": "code",
   "execution_count": 14,
   "metadata": {},
   "outputs": [],
   "source": [
    "import SimpleITK as sitk\n",
    "import numpy as np\n",
    "import os \n",
    "def get_tensor(path):\n",
    "    images_liste = []\n",
    "    for file in os.listdir(path):\n",
    "        if file.endswith(\".mhd\"): \n",
    "            images_liste.append(file)\n",
    "        \n",
    "    Nb_images = len(images_liste)\n",
    "    tenseur = np.empty((Nb_images, 512, 512, 1),dtype=\"uint8\")\n",
    "    for i,images in enumerate(images_liste):\n",
    "\n",
    "            img = sitk.ReadImage(os.path.join(path,images))\n",
    "            img = sitk.GetArrayFromImage(img)\n",
    "            tenseur[i, :, :, 0] = img\n",
    "    return tenseur\n"
   ]
  },
  {
   "cell_type": "code",
   "execution_count": 15,
   "metadata": {},
   "outputs": [],
   "source": [
    "X0 = get_tensor(\"D:/fin_de_etude/data/dataset_2d/nonnodule/\")\n",
    "X1 = get_tensor(\"D:/fin_de_etude/data/dataset_2d/nodule/\")\n"
   ]
  },
  {
   "cell_type": "code",
   "execution_count": 16,
   "metadata": {},
   "outputs": [
    {
     "name": "stdout",
     "output_type": "stream",
     "text": [
      "(287, 512, 512, 1)\n",
      "(1153, 512, 512, 1)\n"
     ]
    }
   ],
   "source": [
    "print(X0.shape)\n",
    "\n",
    "print(X1.shape)"
   ]
  },
  {
   "cell_type": "code",
   "execution_count": 19,
   "metadata": {},
   "outputs": [],
   "source": [
    "np.save(\"X1.npy\",X1)\n",
    "np.save(\"X0.npy\",X0)"
   ]
  },
  {
   "cell_type": "code",
   "execution_count": 20,
   "metadata": {},
   "outputs": [],
   "source": [
    "mask_1 = get_tensor(\"D:/fin_de_etude/data/nodule_mask/nodule/\")\n",
    "mask_0 = get_tensor(\"D:/fin_de_etude/data/nodule_mask/nonnodule/\")"
   ]
  },
  {
   "cell_type": "code",
   "execution_count": 21,
   "metadata": {},
   "outputs": [
    {
     "data": {
      "text/plain": [
       "(287, 512, 512, 1)"
      ]
     },
     "execution_count": 21,
     "metadata": {},
     "output_type": "execute_result"
    }
   ],
   "source": [
    "mask_0.shape"
   ]
  },
  {
   "cell_type": "code",
   "execution_count": 22,
   "metadata": {},
   "outputs": [],
   "source": [
    "np.save(\"mask0.npy\",mask_0)\n",
    "np.save(\"mask1.npy\",mask_1)"
   ]
  },
  {
   "cell_type": "code",
   "execution_count": null,
   "metadata": {},
   "outputs": [],
   "source": []
  }
 ],
 "metadata": {
  "kernelspec": {
   "display_name": "tf_gpu",
   "language": "python",
   "name": "python3"
  },
  "language_info": {
   "codemirror_mode": {
    "name": "ipython",
    "version": 3
   },
   "file_extension": ".py",
   "mimetype": "text/x-python",
   "name": "python",
   "nbconvert_exporter": "python",
   "pygments_lexer": "ipython3",
   "version": "3.9.15"
  },
  "orig_nbformat": 4
 },
 "nbformat": 4,
 "nbformat_minor": 2
}
