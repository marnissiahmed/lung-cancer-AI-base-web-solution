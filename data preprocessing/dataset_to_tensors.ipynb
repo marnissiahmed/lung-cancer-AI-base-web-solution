{
 "cells": [
  {
   "cell_type": "code",
   "execution_count": 6,
   "metadata": {},
   "outputs": [],
   "source": [
    "import numpy as np\n",
    "import os \n",
    "def get_tensor(path):\n",
    "    images_liste = os.listdir(path)\n",
    "    Nb_images = len(images_liste)\n",
    "    tenseur = np.empty((Nb_images, 512, 512, 1),dtype=\"uint16\")\n",
    "\n",
    "    for i,file in enumerate(images_liste):\n",
    "      \n",
    "        img = np.load(os.path.join(path,file))\n",
    "        tenseur[i, :, :, 0] = img\n",
    "    return tenseur\n"
   ]
  },
  {
   "cell_type": "code",
   "execution_count": 7,
   "metadata": {},
   "outputs": [],
   "source": [
    "X0 = get_tensor(\"D:/fin_de_etude/data/dataset images/nonnodule/\")\n",
    "X1 = get_tensor(\"D:/fin_de_etude/data/dataset images/nodule/\")\n"
   ]
  },
  {
   "cell_type": "code",
   "execution_count": 8,
   "metadata": {},
   "outputs": [
    {
     "name": "stdout",
     "output_type": "stream",
     "text": [
      "(1148, 512, 512, 1)\n",
      "(1186, 512, 512, 1)\n"
     ]
    }
   ],
   "source": [
    "print(X0.shape)\n",
    "\n",
    "print(X1.shape)"
   ]
  },
  {
   "cell_type": "code",
   "execution_count": 9,
   "metadata": {},
   "outputs": [],
   "source": [
    "np.save(\"X1.npy\",X1)\n",
    "np.save(\"X0.npy\",X0)"
   ]
  },
  {
   "cell_type": "code",
   "execution_count": 10,
   "metadata": {},
   "outputs": [],
   "source": [
    "Y0 = np.empty((X0.shape[0],1))\n",
    "Y1 = np.empty((X1.shape[0],1))\n",
    "for i in range(X0.shape[0]):\n",
    "    Y0[i,:]=0\n",
    "for i in range(X1.shape[0]):\n",
    "    Y1[i,:]=1\n",
    "\n",
    "\n",
    "Y = np.concatenate((Y0,Y1))\n"
   ]
  },
  {
   "cell_type": "code",
   "execution_count": 11,
   "metadata": {},
   "outputs": [],
   "source": [
    "np.save(\"Y0.npy\",Y0)\n",
    "np.save(\"Y1.npy\",Y1)"
   ]
  },
  {
   "cell_type": "code",
   "execution_count": 12,
   "metadata": {},
   "outputs": [],
   "source": [
    "mask = get_tensor(\"D:/fin_de_etude/data/nodule_mask/nodule/\")"
   ]
  },
  {
   "cell_type": "code",
   "execution_count": 13,
   "metadata": {},
   "outputs": [
    {
     "data": {
      "text/plain": [
       "(1186, 512, 512, 1)"
      ]
     },
     "execution_count": 13,
     "metadata": {},
     "output_type": "execute_result"
    }
   ],
   "source": [
    "mask.shape"
   ]
  },
  {
   "cell_type": "code",
   "execution_count": 14,
   "metadata": {},
   "outputs": [],
   "source": [
    "np.save(\"mask.npy\",mask)"
   ]
  },
  {
   "cell_type": "code",
   "execution_count": 32,
   "metadata": {},
   "outputs": [],
   "source": [
    "import numpy as np\n",
    "import os \n",
    "def get_tensor_bbox(path):\n",
    "    images_liste = os.listdir(path)\n",
    "    Nb_images = len(images_liste)\n",
    "    tenseur = np.empty((Nb_images, 4),dtype=\"double\")\n",
    "\n",
    "    for i,file in enumerate(images_liste):\n",
    "      \n",
    "        img = np.load(os.path.join(path,file))\n",
    "        tenseur[i, ] = img\n",
    "    return tenseur"
   ]
  },
  {
   "cell_type": "code",
   "execution_count": 33,
   "metadata": {},
   "outputs": [],
   "source": [
    "bbox = get_tensor_bbox(\"D:/fin_de_etude/data/bboxes/\")"
   ]
  },
  {
   "cell_type": "code",
   "execution_count": 34,
   "metadata": {},
   "outputs": [
    {
     "data": {
      "text/plain": [
       "(1186, 4)"
      ]
     },
     "execution_count": 34,
     "metadata": {},
     "output_type": "execute_result"
    }
   ],
   "source": [
    "bbox.shape"
   ]
  },
  {
   "cell_type": "code",
   "execution_count": 35,
   "metadata": {},
   "outputs": [
    {
     "name": "stdout",
     "output_type": "stream",
     "text": [
      "[393.3982307  284.42455472  25.75747629  25.75747629]\n"
     ]
    }
   ],
   "source": [
    "print(bbox[1000])"
   ]
  },
  {
   "cell_type": "code",
   "execution_count": 36,
   "metadata": {},
   "outputs": [],
   "source": [
    "np.save(\"bbox.npy\",bbox)"
   ]
  },
  {
   "cell_type": "code",
   "execution_count": null,
   "metadata": {},
   "outputs": [],
   "source": []
  }
 ],
 "metadata": {
  "kernelspec": {
   "display_name": "tf_gpu",
   "language": "python",
   "name": "python3"
  },
  "language_info": {
   "codemirror_mode": {
    "name": "ipython",
    "version": 3
   },
   "file_extension": ".py",
   "mimetype": "text/x-python",
   "name": "python",
   "nbconvert_exporter": "python",
   "pygments_lexer": "ipython3",
   "version": "3.9.15"
  },
  "orig_nbformat": 4
 },
 "nbformat": 4,
 "nbformat_minor": 2
}
