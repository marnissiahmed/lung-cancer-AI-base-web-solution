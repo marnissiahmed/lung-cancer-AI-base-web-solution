{
 "cells": [
  {
   "cell_type": "code",
   "execution_count": 3,
   "metadata": {},
   "outputs": [],
   "source": [
    "import numpy as np\n",
    "import os \n",
    "def get_tensor(path):\n",
    "    images_liste = os.listdir(path)\n",
    "    Nb_images = len(images_liste)\n",
    "    tenseur = np.empty((Nb_images, 512, 512, 1))\n",
    "\n",
    "    for i,file in enumerate(images_liste):\n",
    "      \n",
    "        img = np.load(os.path.join(path,file))\n",
    "        tenseur[i, :, :, 0] = img\n",
    "    return tenseur\n"
   ]
  },
  {
   "cell_type": "code",
   "execution_count": 4,
   "metadata": {},
   "outputs": [],
   "source": [
    "X0 = get_tensor(\"D:/fin_de_etude/data/dataset_2d/nonnodule/\")\n",
    "X1 = get_tensor(\"D:/fin_de_etude/data/dataset_2d/nodule/\")\n"
   ]
  },
  {
   "cell_type": "code",
   "execution_count": 5,
   "metadata": {},
   "outputs": [
    {
     "name": "stdout",
     "output_type": "stream",
     "text": [
      "(676, 512, 512, 1)\n",
      "(723, 512, 512, 1)\n"
     ]
    }
   ],
   "source": [
    "print(X0.shape)\n",
    "\n",
    "print(X1.shape)"
   ]
  },
  {
   "cell_type": "code",
   "execution_count": 6,
   "metadata": {},
   "outputs": [],
   "source": [
    "X = np.concatenate((X0,X1),axis=0)"
   ]
  },
  {
   "cell_type": "code",
   "execution_count": 13,
   "metadata": {},
   "outputs": [],
   "source": [
    "Y0 = np.empty((X0.shape[0],1))\n",
    "Y1 = np.empty((X1.shape[0],1))\n",
    "for i in range(X0.shape[0]):\n",
    "    Y0[i,:]=0\n",
    "for i in range(X1.shape[0]):\n",
    "    Y1[i,:]=1\n",
    "\n",
    "\n",
    "Y = np.concatenate((Y0,Y1))\n"
   ]
  },
  {
   "cell_type": "code",
   "execution_count": 16,
   "metadata": {},
   "outputs": [],
   "source": [
    "np.save(\"X.npy\",X)\n",
    "np.save(\"Y.npy\",Y)"
   ]
  },
  {
   "cell_type": "code",
   "execution_count": 12,
   "metadata": {},
   "outputs": [
    {
     "data": {
      "text/plain": [
       "(723,)"
      ]
     },
     "execution_count": 12,
     "metadata": {},
     "output_type": "execute_result"
    }
   ],
   "source": [
    "Y1.shape"
   ]
  },
  {
   "cell_type": "code",
   "execution_count": 14,
   "metadata": {},
   "outputs": [
    {
     "data": {
      "text/plain": [
       "(1399, 1)"
      ]
     },
     "execution_count": 14,
     "metadata": {},
     "output_type": "execute_result"
    }
   ],
   "source": [
    "Y.shape"
   ]
  },
  {
   "cell_type": "code",
   "execution_count": 15,
   "metadata": {},
   "outputs": [
    {
     "name": "stdout",
     "output_type": "stream",
     "text": [
      "[[0.]\n",
      " [0.]\n",
      " [0.]\n",
      " ...\n",
      " [1.]\n",
      " [1.]\n",
      " [1.]]\n"
     ]
    }
   ],
   "source": [
    "print(Y)"
   ]
  },
  {
   "cell_type": "code",
   "execution_count": null,
   "metadata": {},
   "outputs": [],
   "source": []
  }
 ],
 "metadata": {
  "kernelspec": {
   "display_name": "tf_gpu",
   "language": "python",
   "name": "python3"
  },
  "language_info": {
   "codemirror_mode": {
    "name": "ipython",
    "version": 3
   },
   "file_extension": ".py",
   "mimetype": "text/x-python",
   "name": "python",
   "nbconvert_exporter": "python",
   "pygments_lexer": "ipython3",
   "version": "3.9.15"
  },
  "orig_nbformat": 4
 },
 "nbformat": 4,
 "nbformat_minor": 2
}
